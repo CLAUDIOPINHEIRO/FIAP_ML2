{
 "cells": [
  {
   "cell_type": "markdown",
   "metadata": {},
   "source": [
    " <a href=\"https://www.fiap.com.br\"><img src = \"https://www.fiap.com.br/wp-content/themes/fiap2016/images/sharing/fiap.png\" width = 300, align = \"center\"></a>\n",
    "\n",
    "<h1 align=center><font size = 5>Análise de dados com Python</font></h1>"
   ]
  },
  {
   "cell_type": "code",
   "execution_count": null,
   "metadata": {},
   "outputs": [],
   "source": []
  },
  {
   "cell_type": "markdown",
   "metadata": {},
   "source": [
    "# Introdução\n",
    "\n",
    "### Usando um notebook em Python \n",
    "\n",
    "Vamos a abordar a aquisição de dados de várias maneiras e obter as informações necessárias de um conjunto de dados. No final desta aula, você irá carregar / ler dados com sucesso no Jupyter Notebook e obter a descrição da ideia do conjunto de dados através da Biblioteca Pandas. \n",
    "\n"
   ]
  },
  {
   "cell_type": "code",
   "execution_count": null,
   "metadata": {},
   "outputs": [],
   "source": []
  },
  {
   "cell_type": "markdown",
   "metadata": {},
   "source": [
    "## Conteúdo\n",
    "\n",
    "<div class=\"alert alert-block alert-info\" style=\"margin-top: 20px\">\n",
    "<li><a href=\"#ref1\">Aquisição de dados</a>\n",
    "<li><a href=\"#ref2\">Insights Básicos sobre a base de dados</a></li>\n",
    "<p></p>\n",
    "Tempo estimado necessário: <strong>15 min</strong>\n",
    "</div>\n",
    "<hr>"
   ]
  },
  {
   "cell_type": "markdown",
   "metadata": {},
   "source": [
    "<a id=\"ref1\"></a>\n",
    "# Aquisição de Dados\n",
    "\n",
    "Existem vários formatos para um conjunto de dados: .csv, .json, .xlsx, etc. Os conjuntos de dados podem ser armazenados em diferentes locais, em sua máquina local ou online.\n",
    "\n",
    "Nesta seção, você aprenderá como carregar / ler conjunto de dados no nosso Notebook Jupyter.\n",
    "\n",
    "No nosso caso, o Automobile Dataset é uma fonte on-line, e está no formato CSV (valores separados por vírgula). Vamos usar este conjunto de dados como um exemplo para praticar a leitura de dados.\n",
    "\n",
    "fonte de dados: https://archive.ics.uci.edu/ml/machine-learning-databases/autos/imports-85.data\n",
    "Tipo de dados : csv\n",
    "\n",
    "A Biblioteca Pandas é uma ferramenta útil que nos permite ler vários conjuntos de dados em um quadro de dados; a maioria das plataformas de notebooks do Jupyter possui uma Biblioteca de Pandas ** integrada para que tudo o que precisamos fazer é importá-la ou instala-la.\n"
   ]
  },
  {
   "cell_type": "code",
   "execution_count": null,
   "metadata": {},
   "outputs": [],
   "source": [
    "# importe a biblioteca pandas \n",
    "import pandas as pd"
   ]
  },
  {
   "cell_type": "markdown",
   "metadata": {},
   "source": [
    "\n",
    "## Lendo os dados\n",
    "\n",
    "Usamos o método \"pandas.read_csv ()\" para ler o arquivo csv. Entre aspas, colocamos o caminho do arquivo junto com uma aspa, de modo que os pandas lerão o arquivo em um quadro de dados desse endereço. O caminho do arquivo pode ser um URL ou o endereço de arquivo local. Como os dados da linha não incluem cabeçalhos, podemos adicionar um argumento **\"headers = None\"** dentro do método **\"read_csv ()\"**, de modo que os pandas não definam automaticamente a primeira linha como um cabeçalho. Você também pode atribuir o conjunto de dados a qualquer variável que você criou.\n"
   ]
  },
  {
   "cell_type": "code",
   "execution_count": null,
   "metadata": {},
   "outputs": [],
   "source": [
    "\n",
    "# Importe a pandas como um objeto\n",
    "import pandas as pd\n",
    "\n",
    "# leia o arquivo online pelos URLs fornecidos acima e atribua-o a variável \"df\"\n",
    "path=\"https://archive.ics.uci.edu/ml/machine-learning-databases/autos/imports-85.data\"\n",
    "\n",
    "df = pd.read_csv(path,header=None)\n"
   ]
  },
  {
   "cell_type": "raw",
   "metadata": {},
   "source": [
    "df1 = pd.read_csv(\"C:/Users/logonrmlocal/Desktop/FIAP Arquivos aula/clean_df.csv\", header=None)"
   ]
  },
  {
   "cell_type": "code",
   "execution_count": null,
   "metadata": {},
   "outputs": [],
   "source": [
    "df1 = pd.read_csv(\"clean_df.csv\", header=None)"
   ]
  },
  {
   "cell_type": "code",
   "execution_count": null,
   "metadata": {},
   "outputs": [],
   "source": [
    "df1.head()"
   ]
  },
  {
   "cell_type": "code",
   "execution_count": null,
   "metadata": {},
   "outputs": [],
   "source": [
    "df.head(5)"
   ]
  },
  {
   "cell_type": "markdown",
   "metadata": {},
   "source": [
    "\n",
    "\n",
    "Depois de ler o conjunto de dados, podemos usar o método **`dataframe.head (n)`** para verificar as principais n linhas do quadro de dados onde n é um número inteiro. Confirmar para **`dataframe.head (n)`**, **`dataframe.tail (n)`** irá mostrar-lhe o n linhas inferiores de quadro de dados.\n"
   ]
  },
  {
   "cell_type": "code",
   "execution_count": null,
   "metadata": {},
   "outputs": [],
   "source": [
    "# mostre as 5 primeiras linhas usando o comando dataframe.head().\n",
    "df.head(5)"
   ]
  },
  {
   "cell_type": "markdown",
   "metadata": {},
   "source": [
    "<div class=\"alert alert-danger alertdanger\" style=\"margin-top: 20px\">\n",
    "<h1> Pergunta #1: </h1>\n",
    "<b> Verifique as 10 linhas inferiores do quadro de dados \"df\".</b>\n",
    "</div>"
   ]
  },
  {
   "cell_type": "code",
   "execution_count": null,
   "metadata": {},
   "outputs": [],
   "source": [
    "\n"
   ]
  },
  {
   "cell_type": "markdown",
   "metadata": {},
   "source": [
    "<div class=\"alert alert-danger alertdanger\" style=\"margin-top: 20px\">\n",
    "<h1> Pergunta #1 Resposta: </h1>\n",
    "<b>Execute o código abaixo! Você obteve o código certo?</b>\n",
    "</div>"
   ]
  },
  {
   "cell_type": "code",
   "execution_count": null,
   "metadata": {},
   "outputs": [],
   "source": []
  },
  {
   "cell_type": "markdown",
   "metadata": {},
   "source": [
    "\n",
    " <div align=\"right\">\n",
    "<a href=\"#q2\" class=\"btn btn-default\" data-toggle=\"collapse\">Clique aqui para ver a resposta</a>\n",
    "\n",
    "</div>\n",
    "<div id=\"q2\" class=\"collapse\">\n",
    "```\n",
    "df.tail(10)\n",
    "```\n",
    "</div>\n",
    "\n"
   ]
  },
  {
   "cell_type": "markdown",
   "metadata": {},
   "source": [
    "## Adicione os cabeçalhos\n",
    "\n",
    "Dê uma olhada em nosso conjunto de dados; pandas define automaticamente o cabeçalho por um número inteiro a partir de 0.\n",
    "<div>\n",
    "    \n",
    "Para melhor descrever nossos dados, podemos introduzir um cabeçalho, esta informação está disponível em: https://archive.ics.uci.edu/ml/datasets/Automobile</div>\n",
    "<p></p>\n",
    "<div>Assim, temos que adicionar cabeçalhos manualmente.</div>\n",
    "\n",
    "<div>Primeiramente, nós criamos uma lista com os \"headers\" que inclui todos os nomes das colunas em ordem.</div>\n",
    "\n",
    "<div>Então, nós usamos **`dataframe.columns = headers`** para substituir os cabeçalhos a partir da lista que criamos.</div>\n",
    "\n",
    "\n"
   ]
  },
  {
   "cell_type": "code",
   "execution_count": null,
   "metadata": {},
   "outputs": [],
   "source": [
    "# criar lista de cabeçalhos\n",
    "headers = [\"symboling\",\"normalized-losses\",\"make\",\"fuel-type\",\"aspiration\", \"num-of-doors\",\"body-style\",\n",
    "         \"drive-wheels\",\"engine-location\",\"wheel-base\", \"length\",\"width\",\"height\",\"curb-weight\",\"engine-type\",\n",
    "         \"num-of-cylinders\", \"engine-size\",\"fuel-system\",\"bore\",\"stroke\",\"compression-ratio\",\"horsepower\",\n",
    "         \"peak-rpm\",\"city-mpg\",\"highway-mpg\",\"price\"]"
   ]
  },
  {
   "cell_type": "code",
   "execution_count": null,
   "metadata": {},
   "outputs": [],
   "source": [
    "# substituir cabeçalhos\n",
    "df.columns = headers\n",
    "\n",
    "# reveja seu data frame\n",
    "df.head(10)"
   ]
  },
  {
   "cell_type": "markdown",
   "metadata": {},
   "source": [
    "Agora, lemos com sucesso o conjunto de dados bruto e adicionamos os cabeçalhos corretos no quadro de dados."
   ]
  },
  {
   "cell_type": "markdown",
   "metadata": {},
   "source": [
    " <div class=\"alert alert-danger alertdanger\" style=\"margin-top: 20px\">\n",
    "<h1>Pergunta #2: </h1>\n",
    "<b>Encontre o nome das colunas do dataframe</b>\n",
    "</div>"
   ]
  },
  {
   "cell_type": "code",
   "execution_count": null,
   "metadata": {},
   "outputs": [],
   "source": []
  },
  {
   "cell_type": "markdown",
   "metadata": {},
   "source": [
    "  <div align=\"right\">\n",
    "<a href=\"#q3\" class=\"btn btn-default\" data-toggle=\"collapse\">Clique aqui para a resposta</a>\n",
    "\n",
    "</div>\n",
    "<div id=\"q3\" class=\"collapse\">\n",
    "```\n",
    "df.columns\n",
    "```\n",
    "</div>\n"
   ]
  },
  {
   "cell_type": "markdown",
   "metadata": {},
   "source": [
    "# Salvando a base de dados\n",
    "\n",
    "De forma correspondente, os Pandas nos permitem salvar o conjunto de dados csv pelo método dataframe.to_csv (), você pode adicionar o caminho e o nome do arquivo junto com as aspas no colchete.\n",
    "\n",
    "Por exemplo, se você salvasse o dataframe \"df\" como \"automobile.csv\" em sua máquina local, você pode usar a sintaxe abaixo:"
   ]
  },
  {
   "cell_type": "code",
   "execution_count": null,
   "metadata": {},
   "outputs": [],
   "source": [
    "df.to_csv(\"automobile.csv\")"
   ]
  },
  {
   "cell_type": "markdown",
   "metadata": {},
   "source": [
    "## Leitura e escrita Read/Save Outros formatos\n",
    "Da mesma forma que lemos e salvamos arquivos csv, nós podemos usar métodos similares para ler e salvar outras bases em outros formatos:\n",
    "\n",
    "\n",
    "| Formato dos dados | Leitura           | Salvar             |\n",
    "| ------------- |:--------------:| ----------------:|\n",
    "| csv           | `pd.read_csv()`  |`df.to_csv()`     |\n",
    "| json          | `pd.read_json()` |`df.to_json()`    |\n",
    "| excel         | `pd.read_excel()`|`df.to_excel()`   |\n",
    "| hdf           | `pd.read_hdf()`  |`df.to_hdf()`     |\n",
    "| sql           | `pd.read_sql()`  |`df.to_sql()`     |\n",
    "| ...           |   ...          |       ...        |"
   ]
  },
  {
   "cell_type": "markdown",
   "metadata": {},
   "source": [
    "<a id=\"ref2\"></a>\n",
    "# Insigths Básicos de um Banco de dados \n",
    "\n",
    "Depois de ler dados no quadro de dados da Pandas, é hora de explorar um pouco o conjunto de dados.\n",
    "\n",
    "Existem várias maneiras de obter informações essenciais do conjunto de dados, para nos ajudar a entender melhor nosso conjunto de dados.\n",
    "\n"
   ]
  },
  {
   "cell_type": "markdown",
   "metadata": {},
   "source": [
    "## Tipos de dados\n",
    "\n",
    "Os dados têm uma variedade de tipos. Os principais tipos armazenados em objetos de pandas são `object`, `float`, `int`, `bool` e `datetime64`.Para melhor aprender sobre cada atributos, sempre é bom para nós conhecer o tipo de dados de cada coluna. Em Pandas:\n",
    "\n",
    "~~~~\n",
    "dataframe.dtypes\n",
    "~~~~\n",
    "retorna uma série com o tipo de dados de cada coluna.n."
   ]
  },
  {
   "cell_type": "code",
   "execution_count": null,
   "metadata": {
    "scrolled": false
   },
   "outputs": [],
   "source": [
    "# verifique o tipo de dados do quadro de dados \"df\" by .dtypes\n",
    "df.dtypes"
   ]
  },
  {
   "cell_type": "markdown",
   "metadata": {},
   "source": [
    "\n",
    "Como resultado mostrado acima, é claro que o tipo de dados de \"symboling\" e \"curb-weight\" são int64, \"normalized-losses\" são objetos e \"wheel-base\" é float64, etc. Na verdade, aqueles Os tipos de dados podem ser alterados de propósito, nós aprenderemos isso em um módulo posterior.\n"
   ]
  },
  {
   "cell_type": "markdown",
   "metadata": {},
   "source": [
    "## Describe\n",
    "Se quisermos verificar o resumo estatístico de cada coluna, como contagem de registros, valor médio da coluna, desvio padrão da coluna, etc.\n",
    "~~~~\n",
    "dataframe.describe()\n",
    "~~~~\n",
    "Gera várias estatísticas de resumo, excluindo `NaN` (Não é um número) valores."
   ]
  },
  {
   "cell_type": "code",
   "execution_count": null,
   "metadata": {},
   "outputs": [],
   "source": [
    "# use .describe para obter o resumo estatístico de \"df\"\n",
    "df.describe()"
   ]
  },
  {
   "cell_type": "markdown",
   "metadata": {},
   "source": [
    "\n",
    "\n",
    "Aqui, ele mostra o resumo estatístico de todas as colunas numéricas (int, float).\n",
    "Por exemplo, o atributo \"simbolização\" tem 205 contagens, o valor médio desta coluna é 0.83, o desvio padrão é 1.25, o valor mínimo é -2, o percentil 25 é 0, o percentil 50 é 1, o percentil 75 é 2 e o valor máximo é 3.\n",
    "No entanto, e se nós também possamos verificar todas as colunas, incluindo outros tipos (como o objeto) de dados?\n",
    "No entanto, e se nós também possamos verificar todas as colunas, incluindo outros tipos (como \"objeto\") de dados?\n",
    "\n",
    "Você pode adicionar um argumento `include =\" all \"` dentro do suporte. Vamos tentar novamente."
   ]
  },
  {
   "cell_type": "code",
   "execution_count": null,
   "metadata": {},
   "outputs": [],
   "source": [
    "# descreva todas as colunas em \"df\" \n",
    "df.describe(include = \"all\")"
   ]
  },
  {
   "cell_type": "markdown",
   "metadata": {},
   "source": [
    "\n",
    "Agora, fornece o resumo estatístico de todas as colunas, incluindo atributos digitados por objetos. Agora podemos ver quantos valores únicos, que é o valor superior e a freqüência do maior valor em colunas com caracteres de objeto. Alguns valores na tabela acima mostram como \"NaN\", porque esse número não está disponível em relação ao tipo de coluna particular.\n"
   ]
  },
  {
   "cell_type": "markdown",
   "metadata": {},
   "source": [
    " <div class=\"alert alert-danger alertdanger\" style=\"margin-top: 20px\">\n",
    "<h1> Questão #3: </h1>\n",
    "\n",
    "<p>Você pode selecionar a coluna de um dataframe pela indicaçào do nome de cada coluna, por exemplo você pode selecionar o nome das três colunas a seguir </p>\n",
    "<p></p>\n",
    "\n",
    "<p>dataframe[[' column 1 ',column 2', 'column 3'] ]</p>\n",
    "<p></p>\n",
    "\n",
    "<p>onde \"colums\" é o nome da coluna, você pode aplicar o método \".describe()\" para extrair as estatisticas das colunas como abaixo:</p>\n",
    "<p></p>\n",
    "\n",
    "<p>dataframe[[' column 1 ',column 2', 'column 3'] ].describe() </p>\n",
    "<p></p>\n",
    "\n",
    "\n",
    "Aplique o comando  \".describe()\" para as colunas 'length' e 'compression-ratio'.\n",
    "</div>"
   ]
  },
  {
   "cell_type": "code",
   "execution_count": null,
   "metadata": {},
   "outputs": [],
   "source": []
  },
  {
   "cell_type": "markdown",
   "metadata": {},
   "source": [
    "## Informações\n",
    "\n",
    "Outro método que você pode usar para checar o seu dataset é:\n",
    "~~~~\n",
    "dataframe.info\n",
    "~~~~\n",
    "ele fornece um resumo conciso do seu dataframe."
   ]
  },
  {
   "cell_type": "code",
   "execution_count": null,
   "metadata": {},
   "outputs": [],
   "source": [
    "# Veja a saída do com o comando .info \"df\"\n",
    "df.info()"
   ]
  },
  {
   "cell_type": "markdown",
   "metadata": {},
   "source": [
    "Aqui, podemos ver as informações do nosso quadro de dados, com as 30 primeiras linhas e as 30 linhas inferiores.\n",
    "\n",
    "E também nos mostra que o quadro de dados inteiro tem 205 linhas e 26 colunas no total."
   ]
  },
  {
   "cell_type": "code",
   "execution_count": null,
   "metadata": {},
   "outputs": [],
   "source": [
    "#Substituindo casos faltantes"
   ]
  },
  {
   "cell_type": "code",
   "execution_count": null,
   "metadata": {
    "scrolled": true
   },
   "outputs": [],
   "source": [
    "df.dropna(subset=[\"price\"], axis=0)"
   ]
  },
  {
   "cell_type": "markdown",
   "metadata": {},
   "source": [
    "# Excelente você completou o primeiro notebook em Python"
   ]
  },
  {
   "cell_type": "markdown",
   "metadata": {},
   "source": [
    "  \n",
    "### Sobre os autores:  \n",
    "\n",
    "Este notebook foi escrito por [Mahdi Noorian PhD](https://www.linkedin.com/in/mahdi-noorian-58219234/) ,[Joseph Santarcangelo PhD]( https://www.linkedin.com/in/joseph-s-50398b136/), Bahare Talayian, Eric Xiao, Steven Dong, Parizad , Hima Vsudevan and [Fiorella Wenver](https://www.linkedin.com/in/fiorellawever/).\n",
    "\n",
    "Adaptado por Claudio Pinheiro\n",
    "\n"
   ]
  }
 ],
 "metadata": {
  "anaconda-cloud": {},
  "kernelspec": {
   "display_name": "Python 3",
   "language": "python",
   "name": "python3"
  },
  "language_info": {
   "codemirror_mode": {
    "name": "ipython",
    "version": 3
   },
   "file_extension": ".py",
   "mimetype": "text/x-python",
   "name": "python",
   "nbconvert_exporter": "python",
   "pygments_lexer": "ipython3",
   "version": "3.6.4"
  },
  "widgets": {
   "state": {},
   "version": "1.1.2"
  }
 },
 "nbformat": 4,
 "nbformat_minor": 2
}
